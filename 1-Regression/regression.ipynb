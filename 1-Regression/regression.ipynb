{
 "cells": [
  {
   "cell_type": "code",
   "execution_count": 1,
   "metadata": {},
   "outputs": [],
   "source": [
    "import numpy as np\n",
    "import pandas as pd\n",
    "import matplotlib.pyplot as plt"
   ]
  },
  {
   "cell_type": "code",
   "execution_count": 2,
   "metadata": {},
   "outputs": [],
   "source": [
    "CarsData_Train = pd.read_excel(\"E:\\\\Artificial Intellingence\\\\1st term\\ML\\\\HomeWorks\\\\1\\\\data\\\\train.xlsx\")\n",
    "CarsData_Val = pd.read_excel(\"E:\\\\Artificial Intellingence\\\\1st term\\ML\\\\HomeWorks\\\\1\\\\data\\\\val.xlsx\")\n",
    "CarsData_Test = pd.read_excel(\"E:\\\\Artificial Intellingence\\\\1st term\\ML\\\\HomeWorks\\\\1\\\\data\\\\test.xlsx\")"
   ]
  },
  {
   "cell_type": "markdown",
   "metadata": {},
   "source": [
    "--------------------------------------------------------------------------------------preprocessing---------------------------------------------------------------------------------------\n"
   ]
  },
  {
   "cell_type": "code",
   "execution_count": 3,
   "metadata": {},
   "outputs": [
    {
     "data": {
      "text/plain": [
       "['Color', 'Fuel_Type']"
      ]
     },
     "execution_count": 3,
     "metadata": {},
     "output_type": "execute_result"
    }
   ],
   "source": [
    "#identify categorical columns\n",
    "\n",
    "cols = CarsData_Train.columns\n",
    "num_cols = CarsData_Train._get_numeric_data().columns\n",
    "cat_cols = list(set(cols)-set(num_cols))\n",
    "cat_cols"
   ]
  },
  {
   "cell_type": "code",
   "execution_count": 4,
   "metadata": {},
   "outputs": [],
   "source": [
    "# Get one hot encoding of columns Fuel_Type and color\n",
    "one_hot1_Train = pd.get_dummies(CarsData_Train['Fuel_Type'])\n",
    "one_hot2_Train = pd.get_dummies(CarsData_Train['Color'])\n",
    "# Drop column Fuel_Type and color as they are now encoded\n",
    "Train = CarsData_Train.drop(['Fuel_Type','Color'],axis = 1)\n",
    "# Join the encoded df\n",
    "Train = Train.join(one_hot1_Train.join(one_hot2_Train))\n",
    "\n",
    "\n",
    "#do the same for val and test data\n",
    "one_hot1_Val = pd.get_dummies(CarsData_Val['Fuel_Type'])\n",
    "one_hot2_Val = pd.get_dummies(CarsData_Val['Color'])\n",
    "# Drop column Fuel_Type and color as they are now encoded\n",
    "Val = CarsData_Val.drop(['Fuel_Type','Color'],axis = 1)\n",
    "# Join the encoded df\n",
    "Val = Val.join(one_hot1_Val.join(one_hot2_Val))\n",
    "\n",
    "\n",
    "\n",
    "one_hot1_Test = pd.get_dummies(CarsData_Test['Fuel_Type'])\n",
    "one_hot2_Test = pd.get_dummies(CarsData_Test['Color'])\n",
    "# Drop column Fuel_Type and color as they are now encoded\n",
    "Test = CarsData_Test.drop(['Fuel_Type','Color'],axis = 1)\n",
    "# Join the encoded df\n",
    "Test = Test.join(one_hot1_Test.join(one_hot2_Test))"
   ]
  },
  {
   "cell_type": "code",
   "execution_count": 5,
   "metadata": {},
   "outputs": [],
   "source": [
    "#make column index indentical\n",
    "\n",
    "ColorsNotinVal = [value for value in list(CarsData_Train.Color.unique()) if value not in list(CarsData_Val.Color.unique())]\n",
    "ColorsNotinTest = [value for value in list(CarsData_Train.Color.unique()) if value not in list(CarsData_Test.Color.unique())]\n",
    "\n",
    "Fuel_TypeNotinVal= [value for value in list(CarsData_Train.Fuel_Type.unique()) if value not in list(CarsData_Val.Fuel_Type.unique())]\n",
    "Fuel_TypeNotinTest= [value for value in list(CarsData_Train.Fuel_Type.unique()) if value not in list(CarsData_Test.Fuel_Type.unique())]\n",
    "\n",
    "for value in (ColorsNotinVal+Fuel_TypeNotinVal) :\n",
    "    Val[value]=0\n",
    "for value in (ColorsNotinTest+Fuel_TypeNotinTest):\n",
    "    Test[value]=0\n",
    "\n",
    "Val = Val[list(Train.columns)]\n",
    "Test = Test[list(Train.columns)]"
   ]
  },
  {
   "cell_type": "code",
   "execution_count": 6,
   "metadata": {},
   "outputs": [],
   "source": [
    "X_Train = Train.iloc[: , 1:]\n",
    "Y_Train = Train.iloc[: , [0]]\n",
    "\n",
    "X_Val = Val.iloc[: , 1:]\n",
    "Y_Val = Val.iloc[: , [0]]\n",
    "\n",
    "X_Test = Test.iloc[: , 1:]\n",
    "Y_Test = Test.iloc[: , [0]]"
   ]
  },
  {
   "cell_type": "code",
   "execution_count": 7,
   "metadata": {},
   "outputs": [],
   "source": [
    "columns = list(X_Train.columns)\n",
    "X_Train[\"intercept\"]=1\n",
    "X_Train=X_Train[[\"intercept\"]+columns]\n",
    "\n",
    "\n",
    "X_Val[\"intercept\"]=1\n",
    "X_Val=X_Val[[\"intercept\"]+columns]\n",
    "\n",
    "\n",
    "X_Test[\"intercept\"]=1\n",
    "X_Test=X_Test[[\"intercept\"]+columns]"
   ]
  },
  {
   "cell_type": "markdown",
   "metadata": {},
   "source": [
    "------------------------------------------------------------------------------------------Part One---------------------------------------------------------------------------------------"
   ]
  },
  {
   "cell_type": "code",
   "execution_count": 8,
   "metadata": {},
   "outputs": [],
   "source": [
    "\n",
    "I = np.eye(X_Train.shape[1])\n",
    "\n",
    "def get_w(lam) :\n",
    "    return np.linalg.inv( X_Train.T @ X_Train + lam*I) @ X_Train.T @ Y_Train"
   ]
  },
  {
   "cell_type": "code",
   "execution_count": 9,
   "metadata": {},
   "outputs": [
    {
     "name": "stdout",
     "output_type": "stream",
     "text": [
      "1 >>> [[1243447.49173475]]\n",
      "0.5 >>> [[1245088.60404562]]\n",
      "0.25 >>> [[1245976.6955744]]\n",
      "0.1 >>> [[1246539.18892093]]\n",
      "0.01 >>> [[1246890.24941312]]\n",
      "0.001 >>> [[1246926.0078449]]\n",
      "0 >>> [[1.14909185e+15]]\n"
     ]
    }
   ],
   "source": [
    "for lam in [ 1 , 0.5 , 0.25 , 0.1 , 0.01 , 0.001 , 0]:\n",
    "    w = get_w(lam)\n",
    "    predict = np.dot(X_Val,w)\n",
    "    print(lam,\">>>\", ((np.dot((Y_Val-predict).T,Y_Val-predict))/len(Y_Val)))      # Mean Squared Error"
   ]
  },
  {
   "cell_type": "markdown",
   "metadata": {},
   "source": [
    "conclusion  :  best lambda is <1>"
   ]
  },
  {
   "cell_type": "code",
   "execution_count": 10,
   "metadata": {},
   "outputs": [
    {
     "name": "stdout",
     "output_type": "stream",
     "text": [
      "Model's Error on Train Data is : 1215629.3247201117 and on Test Data is : 1087272.42864188\n"
     ]
    }
   ],
   "source": [
    "w = get_w(1)\n",
    "#prediction on train data\n",
    "Train_Predict = np.dot(X_Train,w)\n",
    "Train_MSE = (np.dot((Y_Train-Train_Predict).T,Y_Train-Train_Predict))/len(Y_Train)\n",
    "#prediction on test data\n",
    "Test_Predict= np.dot(X_Test,w)\n",
    "Test_MSE = (np.dot((Y_Test-Test_Predict).T,Y_Test-Test_Predict))/len(Y_Test)\n",
    "\n",
    "print (\"Model's Error on Train Data is :\",Train_MSE[0][0],\"and on Test Data is :\",Test_MSE[0][0])"
   ]
  },
  {
   "cell_type": "markdown",
   "metadata": {},
   "source": [
    "------------------------------------------------------------------------------------------Part Two---------------------------------------------------------------------------------------"
   ]
  },
  {
   "cell_type": "code",
   "execution_count": 11,
   "metadata": {},
   "outputs": [],
   "source": [
    "def polynomial_degreeTwo(X):\n",
    "    x=np.array(X).copy()\n",
    "    poly_X=[]\n",
    "    for item in x:\n",
    "        temp_list=[1]\n",
    "        for index in range(1,len(item)):\n",
    "            for index1 in range(index,len(item)):\n",
    "                temp_list.append(item[index]*item[index1])\n",
    "        poly_X.append(temp_list)\n",
    "    \n",
    "    return np.array(poly_X)"
   ]
  },
  {
   "cell_type": "code",
   "execution_count": 12,
   "metadata": {},
   "outputs": [],
   "source": [
    "X_Train_poly=polynomial_degreeTwo(X_Train)\n",
    "X_Val_poly=polynomial_degreeTwo(X_Val)\n",
    "X_Test_poly=polynomial_degreeTwo(X_Test)"
   ]
  },
  {
   "cell_type": "code",
   "execution_count": 13,
   "metadata": {},
   "outputs": [],
   "source": [
    "I = np.eye(X_Train_poly.shape[1])\n",
    "\n",
    "def get_w_poly(lam) :\n",
    "    return np.linalg.inv( X_Train_poly.T @ X_Train_poly + lam*I) @ X_Train_poly.T @ Y_Train"
   ]
  },
  {
   "cell_type": "code",
   "execution_count": 14,
   "metadata": {},
   "outputs": [
    {
     "name": "stdout",
     "output_type": "stream",
     "text": [
      "1 >>> [[2269510.32615868]]\n",
      "0.5 >>> [[2694883.55018516]]\n",
      "0.25 >>> [[2706829.75375781]]\n",
      "0.1 >>> [[4619173.4930178]]\n",
      "0.01 >>> [[2.14391742e+08]]\n",
      "0.001 >>> [[3.95950493e+10]]\n"
     ]
    }
   ],
   "source": [
    "for lam in [ 1 , 0.5 , 0.25 , 0.1 , 0.01 , 0.001 ]:\n",
    "    w = get_w_poly(lam)\n",
    "    predict = np.dot(X_Val_poly,w)\n",
    "    print(lam,\">>>\", (np.dot((Y_Val-predict).T,Y_Val-predict))/len(Y_Val))"
   ]
  },
  {
   "cell_type": "markdown",
   "metadata": {},
   "source": [
    "conclusion  :  best lambda is <1> again\n"
   ]
  },
  {
   "cell_type": "code",
   "execution_count": 15,
   "metadata": {},
   "outputs": [
    {
     "name": "stdout",
     "output_type": "stream",
     "text": [
      "Model's Error on Train Data is : 305904.53901370114 and on Test Data is : 7119133.490118027\n"
     ]
    }
   ],
   "source": [
    "w = get_w_poly(1)\n",
    "#prediction on train data\n",
    "Train_Predict = np.dot(X_Train_poly,w)\n",
    "Train_MSE = (np.dot((Y_Train-Train_Predict).T,Y_Train-Train_Predict))/len(Y_Train)\n",
    "#prediction on test data\n",
    "Test_Predict= np.dot(X_Test_poly,w)\n",
    "Test_MSE = (np.dot((Y_Test-Test_Predict).T,Y_Test-Test_Predict))/len(Y_Test)\n",
    "\n",
    "print (\"Model's Error on Train Data is :\",Train_MSE[0][0],\"and on Test Data is :\",Test_MSE[0][0])"
   ]
  },
  {
   "cell_type": "markdown",
   "metadata": {},
   "source": [
    "This show overfiting to Training Data"
   ]
  },
  {
   "cell_type": "markdown",
   "metadata": {},
   "source": [
    "----------------------------------------------------------------------------------------Part Three---------------------------------------------------------------------------------------"
   ]
  },
  {
   "cell_type": "code",
   "execution_count": 16,
   "metadata": {},
   "outputs": [],
   "source": [
    "import random"
   ]
  },
  {
   "cell_type": "code",
   "execution_count": 17,
   "metadata": {},
   "outputs": [],
   "source": [
    "Standard_X_Train = ((X_Train - X_Train.mean()) / X_Train.std()).fillna(0)    \n",
    "Standard_Y_Train = ((Y_Train - Y_Train.mean()) / Y_Train.std()).fillna(0)\n",
    "Standard_X_Val = ((X_Val - X_Val.mean()) / X_Val.std()).fillna(0)    \n",
    "Standard_Y_Val = ((Y_Val - Y_Val.mean()) / Y_Val.std()).fillna(0)\n",
    "Standard_X_Test = ((X_Test - X_Test.mean()) / X_Test.std()).fillna(0)    \n",
    "Standard_Y_Test = ((Y_Test - Y_Test.mean()) / Y_Test.std()).fillna(0)          \n"
   ]
  },
  {
   "cell_type": "code",
   "execution_count": 20,
   "metadata": {},
   "outputs": [
    {
     "name": "stdout",
     "output_type": "stream",
     "text": [
      "1 >>> [[0.12708063]]\n",
      "0.5 >>> [[0.13248686]]\n",
      "0.1 >>> [[0.13026574]]\n",
      "0.01 >>> [[0.53559034]]\n"
     ]
    }
   ],
   "source": [
    "def SGD(X,Y,LR,iteration):\n",
    "    iteration_list=[]\n",
    "    cost_list=[]\n",
    "    w=np.ones((X_Train.shape[1],))\n",
    "    for i in range(iteration):\n",
    "        \n",
    "        \n",
    "        random_index = random.randint(0,X_Train.shape[0]-1) \n",
    "        sample_x = Standard_X_Train.values[random_index]\n",
    "        sample_y = Standard_Y_Train.values[random_index]\n",
    "      \n",
    "        prediction = np.dot(w.T,sample_x)\n",
    "\n",
    "        \n",
    "\n",
    "        grad = -(2/X_Train.shape[0])*(sample_x.T*(sample_y-prediction))\n",
    "\n",
    "\n",
    "        w = w - LR*grad\n",
    "\n",
    "        \n",
    "\n",
    "        cost = np.square(sample_y-prediction)\n",
    "\n",
    "        \n",
    "        \n",
    "       \n",
    "        \n",
    "    return w\n",
    "\n",
    "for learning_rate in [1 , 0.5 , 0.1 , 0.01]:\n",
    "    w = SGD(Standard_X_Train , Standard_Y_Train , learning_rate , 100000)\n",
    "    predict = np.dot(Standard_X_Val,w).reshape(136,1)\n",
    "    print(learning_rate,\">>>\", ((np.dot((Standard_Y_Val-predict).T,Standard_Y_Val-predict))/len(Standard_Y_Val)))      # Mean Squared Error\n",
    "\n",
    "\n",
    "\n",
    "\n",
    "\n"
   ]
  },
  {
   "cell_type": "markdown",
   "metadata": {},
   "source": [
    "conclusion : best learning rate is <1>"
   ]
  },
  {
   "cell_type": "code",
   "execution_count": 21,
   "metadata": {},
   "outputs": [
    {
     "name": "stdout",
     "output_type": "stream",
     "text": [
      "Model's Error on Train Data is : 0.09291363938639448 and on Test Data is : 0.1284059717499394\n"
     ]
    }
   ],
   "source": [
    "w = SGD(Standard_X_Train , Standard_Y_Train , 1 , 100000)\n",
    "#prediction on train data\n",
    "Train_Predict = np.dot(Standard_X_Train,w).reshape(1000,1)\n",
    "Train_MSE = (np.dot((Standard_Y_Train-Train_Predict).T,Standard_Y_Train-Train_Predict))/len(Standard_Y_Train)\n",
    "#prediction on test data\n",
    "Test_Predict= np.dot(Standard_X_Test,w).reshape(300,1)\n",
    "Test_MSE = (np.dot((Standard_Y_Test-Test_Predict).T,Standard_Y_Test-Test_Predict))/len(Standard_Y_Test)\n",
    "\n",
    "print (\"Model's Error on Train Data is :\",Train_MSE[0][0],\"and on Test Data is :\",Test_MSE[0][0])"
   ]
  },
  {
   "cell_type": "code",
   "execution_count": 24,
   "metadata": {},
   "outputs": [],
   "source": [
    "#MSE per Iteration for train and validation data\n",
    "iteration_list=[]\n",
    "Train_MSE_list=[]\n",
    "Val_MSE_list=[]\n",
    "for iteration in range(1,100000,1000):\n",
    "    w = SGD(Standard_X_Train , Standard_Y_Train , 1 , iteration)\n",
    "\n",
    "\n",
    "    iteration_list.append(iteration)\n",
    "\n",
    "    Train_Predict = np.dot(Standard_X_Train,w).reshape(1000,1)\n",
    "    Train_MSE = (np.dot((Standard_Y_Train-Train_Predict).T,Standard_Y_Train-Train_Predict))/len(Standard_Y_Train)\n",
    "    Train_MSE_list.append(Train_MSE[0][0])\n",
    "    \n",
    "    Val_Predict = np.dot(Standard_X_Val,w).reshape(136,1)\n",
    "    Val_MSE = (np.dot((Standard_Y_Val-Val_Predict).T,Standard_Y_Val-Val_Predict))/len(Standard_Y_Val)\n",
    "    Val_MSE_list.append(Val_MSE[0][0])\n"
   ]
  },
  {
   "cell_type": "code",
   "execution_count": 34,
   "metadata": {},
   "outputs": [
    {
     "data": {
      "text/plain": [
       "[<matplotlib.lines.Line2D at 0x1890766d3d0>]"
      ]
     },
     "execution_count": 34,
     "metadata": {},
     "output_type": "execute_result"
    },
    {
     "data": {
      "image/png": "[encoded data removed]",
      "text/plain": [
       "<Figure size 432x288 with 1 Axes>"
      ]
     },
     "metadata": {
      "needs_background": "light"
     },
     "output_type": "display_data"
    }
   ],
   "source": [
    "plt.xlabel(\"iteration\")\n",
    "plt.ylabel(\"MSE For Data\")\n",
    "plt.plot(iteration_list[2:],Train_MSE_list[2:])"
   ]
  },
  {
   "cell_type": "code",
   "execution_count": 35,
   "metadata": {},
   "outputs": [
    {
     "data": {
      "text/plain": [
       "[<matplotlib.lines.Line2D at 0x189076ceac0>]"
      ]
     },
     "execution_count": 35,
     "metadata": {},
     "output_type": "execute_result"
    },
    {
     "data": {
      "image/png": "[encoded data removed]",
      "text/plain": [
       "<Figure size 432x288 with 1 Axes>"
      ]
     },
     "metadata": {
      "needs_background": "light"
     },
     "output_type": "display_data"
    }
   ],
   "source": [
    "plt.xlabel(\"iteration\")\n",
    "plt.ylabel(\"MSE For ValData\")\n",
    "plt.plot(iteration_list[2:],Val_MSE_list[2:])"
   ]
  }
 ],
 "metadata": {
  "kernelspec": {
   "display_name": "Python 3.9.6 64-bit",
   "language": "python",
   "name": "python3"
  },
  "language_info": {
   "codemirror_mode": {
    "name": "ipython",
    "version": 3
   },
   "file_extension": ".py",
   "mimetype": "text/x-python",
   "name": "python",
   "nbconvert_exporter": "python",
   "pygments_lexer": "ipython3",
   "version": "3.9.6"
  },
  "orig_nbformat": 4,
  "vscode": {
   "interpreter": {
    "hash": "defbfcac5d2cbda68427532a810370d34b88f2f7073d72a5cc247a74b77f7d41"
   }
  }
 },
 "nbformat": 4,
 "nbformat_minor": 2
}
