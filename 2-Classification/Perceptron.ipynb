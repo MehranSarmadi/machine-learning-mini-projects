{
 "cells": [
  {
   "cell_type": "code",
   "execution_count": 9,
   "metadata": {},
   "outputs": [],
   "source": [
    "import numpy as np\n",
    "from scipy.io import loadmat\n",
    "import matplotlib.pyplot as plt"
   ]
  },
  {
   "cell_type": "code",
   "execution_count": 10,
   "metadata": {},
   "outputs": [],
   "source": [
    "mnist = loadmat(\"mnist\")\n",
    "mnsit_train = mnist['train']\n",
    "mnsit_test = mnist['test']"
   ]
  },
  {
   "cell_type": "markdown",
   "metadata": {},
   "source": [
    "<font color='green'>\n",
    "Choosing data that are related to  8 and 3 :\n",
    "</font>"
   ]
  },
  {
   "cell_type": "code",
   "execution_count": 16,
   "metadata": {},
   "outputs": [],
   "source": [
    "Train_Data = mnsit_train[(mnsit_train[: , -1] == 3.0) | (mnsit_train[: , -1] == 8.0)]\n",
    "Test_Data =  mnsit_test[(mnsit_test[: , -1] == 3.0) | (mnsit_test[: , -1] == 8.0)]"
   ]
  },
  {
   "cell_type": "markdown",
   "metadata": {},
   "source": [
    "<font color='green'>\n",
    "Separating x and y :\n",
    "</font>"
   ]
  },
  {
   "cell_type": "code",
   "execution_count": 12,
   "metadata": {},
   "outputs": [],
   "source": [
    "#separate x and y in train data\n",
    "X_Train_without_intercept = Train_Data[ : , :-1]\n",
    "Y_Train_not_NegativePositiveOne = Train_Data[ : , -1]\n",
    "\n",
    "#separate x and y in test data\n",
    "X_Test_without_intercept = Test_Data[ : , :-1]\n",
    "Y_Test_not_NegativePositiveOne = Test_Data[ : , -1]"
   ]
  },
  {
   "cell_type": "markdown",
   "metadata": {},
   "source": [
    "<font color='green'>\n",
    "Add intercept (x(0) = 1) and  turn 3 and 8 to -1 and +1:\n",
    "</font>"
   ]
  },
  {
   "cell_type": "code",
   "execution_count": 17,
   "metadata": {},
   "outputs": [],
   "source": [
    "### train data ###\n",
    "\n",
    "# add x0 = 1 to all x rows\n",
    "number_of_rows = len(Train_Data)\n",
    "intercept = np.ones(number_of_rows)\n",
    "X_Train = np.c_[intercept , X_Train_without_intercept]\n",
    "\n",
    "# change 3 to NegatibeOne and 8 to PositiveOne\n",
    "Y_Train = Y_Train_not_NegativePositiveOne.copy()\n",
    "Y_Train[Y_Train == 3] = -1\n",
    "Y_Train[Y_Train == 8] = 1\n",
    "\n",
    "### test data ### \n",
    "\n",
    "# add x0 = 1 to all x rows\n",
    "number_of_rows = len(Test_Data)\n",
    "intercept = np.ones(number_of_rows)\n",
    "X_Test = np.c_[intercept , X_Test_without_intercept]\n",
    "\n",
    "# change 3 to NegatibeOne and 8 to PositiveOne\n",
    "Y_Test = Y_Test_not_NegativePositiveOne.copy()\n",
    "Y_Test[Y_Test == 3] = -1\n",
    "Y_Test[Y_Test == 8] = 1"
   ]
  },
  {
   "cell_type": "markdown",
   "metadata": {},
   "source": [
    "<font color='green'>\n",
    "define functions for prediction and cost function :\n",
    "</font>"
   ]
  },
  {
   "cell_type": "code",
   "execution_count": 23,
   "metadata": {},
   "outputs": [],
   "source": [
    "def predict(x,w):\n",
    "\n",
    "    prediction = np.array(x @ w)\n",
    "    # implemention of sign\n",
    "    turn_to_plusOne = prediction >= 0\n",
    "    truen_to_minusOne = prediction < 0\n",
    "    \n",
    "    prediction[turn_to_plusOne] = 1\n",
    "    prediction[truen_to_minusOne] = -1\n",
    "    return prediction\n",
    "\n",
    "def costfunction(w,x,y):\n",
    "    cost = 0\n",
    "    \n",
    "    misclassifiedItems = predict(x,w) != y\n",
    "   \n",
    "    x = x[misclassifiedItems]\n",
    "    \n",
    "    y = y[misclassifiedItems]\n",
    "    cost = - ( ( ( x @ w ).T @ y) )\n",
    "    return cost"
   ]
  },
  {
   "cell_type": "markdown",
   "metadata": {},
   "source": [
    "<font color='green'>\n",
    "implement stochastic perceptron :\n",
    "</font>"
   ]
  },
  {
   "cell_type": "code",
   "execution_count": 18,
   "metadata": {},
   "outputs": [],
   "source": [
    "def Stochastic_Perceptron(x,y,learning_rate = 0.001) :\n",
    "\n",
    "    #initialization\n",
    "    w = np.zeros(len(x[0]))\n",
    "    it = 0\n",
    "    \n",
    "    iteratin_lst = []\n",
    "    number_of_True_assigning_lst = []\n",
    "\n",
    "    while not np.all( f(x,w) == y ):\n",
    "\n",
    "        it = it + 1\n",
    "        i = it % len(x)\n",
    "        if f(x[i].T , w) != y[i]:\n",
    "            w = w + learning_rate * x[i] * y[i] \n",
    "\n",
    "        #storing iteration and accuracy for plottiong them \n",
    "        if it % 10000 == 0:\n",
    "            iteratin_lst.append(it)\n",
    "            number_of_True_assigning_lst.append(sum(f(x,w) == y))\n",
    "\n",
    "    return w , iteratin_lst , number_of_True_assigning_lst\n",
    "\n",
    "w , iteratin ,  number_of_True_assigning =  Stochastic_Perceptron(X_Train,Y_Train)"
   ]
  },
  {
   "cell_type": "markdown",
   "metadata": {},
   "source": [
    "<font color='green'>\n",
    "plotting accuracy in every 1000 iteration :\n",
    "</font>"
   ]
  },
  {
   "cell_type": "code",
   "execution_count": 21,
   "metadata": {},
   "outputs": [
    {
     "data": {
      "text/plain": [
       "[<matplotlib.lines.Line2D at 0x1a93daf5a30>]"
      ]
     },
     "execution_count": 21,
     "metadata": {},
     "output_type": "execute_result"
    },
    {
     "data": {
      "image/png": "[encoded data removed]",
      "text/plain": [
       "<Figure size 432x288 with 1 Axes>"
      ]
     },
     "metadata": {
      "needs_background": "light"
     },
     "output_type": "display_data"
    }
   ],
   "source": [
    "plt.xlabel(\"iteration\")\n",
    "plt.ylabel(\"number_of_True_assigning\")\n",
    "plt.plot(iteratin , number_of_True_assigning)"
   ]
  },
  {
   "cell_type": "markdown",
   "metadata": {},
   "source": [
    "<font color='green'>\n",
    "defining accuracy function:\n",
    "</font>"
   ]
  },
  {
   "cell_type": "code",
   "execution_count": null,
   "metadata": {},
   "outputs": [],
   "source": [
    "def accuracy(y_true, y_pred):\n",
    "    accuracy = np.sum(y_true == y_pred) / len(y_true)\n",
    "    return accuracy"
   ]
  },
  {
   "cell_type": "markdown",
   "metadata": {},
   "source": [
    "<font color='green'>\n",
    "cost function and accuracy for both train and test data:\n",
    "</font>"
   ]
  },
  {
   "cell_type": "code",
   "execution_count": 22,
   "metadata": {},
   "outputs": [
    {
     "name": "stdout",
     "output_type": "stream",
     "text": [
      "cost on Train Data :  -0.0\n",
      "cost on Test Data :  1.008375840061521\n",
      "misclassification_percentage_on_Train_data :  100.0 \n",
      " misclassification_percentage_on_Test_data :  94.72295514511873\n"
     ]
    }
   ],
   "source": [
    "print(\"cost on Train Data : \",costfunction(w,X_Train , Y_Train))\n",
    "print(\"cost on Test Data : \",costfunction(w,X_Test , Y_Test))\n",
    "\n",
    "misclassification_percentage_on_Train_data = ( sum(f(X_Train , w) == Y_Train) / len(Y_Train) ) * 100\n",
    "misclassification_percentage_on_Test_data = ( sum(f(X_Test , w) == Y_Test) / len(Y_Test) ) * 100\n",
    "print(\"misclassification_percentage_on_Train_data : \", misclassification_percentage_on_Train_data , \"\\n\" ,\"misclassification_percentage_on_Test_data : \" ,misclassification_percentage_on_Test_data )"
   ]
  }
 ],
 "metadata": {
  "kernelspec": {
   "display_name": "Python 3.9.6 64-bit",
   "language": "python",
   "name": "python3"
  },
  "language_info": {
   "codemirror_mode": {
    "name": "ipython",
    "version": 3
   },
   "file_extension": ".py",
   "mimetype": "text/x-python",
   "name": "python",
   "nbconvert_exporter": "python",
   "pygments_lexer": "ipython3",
   "version": "3.9.6"
  },
  "orig_nbformat": 4,
  "vscode": {
   "interpreter": {
    "hash": "defbfcac5d2cbda68427532a810370d34b88f2f7073d72a5cc247a74b77f7d41"
   }
  }
 },
 "nbformat": 4,
 "nbformat_minor": 2
}
