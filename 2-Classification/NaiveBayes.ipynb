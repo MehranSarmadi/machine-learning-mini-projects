{
 "cells": [
  {
   "cell_type": "code",
   "execution_count": 1,
   "metadata": {},
   "outputs": [],
   "source": [
    "import numpy as np\n",
    "from scipy.io import loadmat\n"
   ]
  },
  {
   "cell_type": "code",
   "execution_count": 2,
   "metadata": {},
   "outputs": [],
   "source": [
    "mnist = loadmat(\"mnist\")\n",
    "Train_Data = mnist['train']\n",
    "Test_Data = mnist['test']"
   ]
  },
  {
   "cell_type": "markdown",
   "metadata": {},
   "source": [
    "<font color='green'>\n",
    "Separating x and y :\n",
    "</font>"
   ]
  },
  {
   "cell_type": "code",
   "execution_count": 3,
   "metadata": {},
   "outputs": [],
   "source": [
    "#separate x and y in train data\n",
    "X_train = Train_Data[ : , :-1]\n",
    "y_train = Train_Data[ : , -1]\n",
    "\n",
    "#separate x and y in test data\n",
    "X_test = Test_Data[ : , :-1]\n",
    "y_test = Test_Data[ : , -1]"
   ]
  },
  {
   "cell_type": "markdown",
   "metadata": {},
   "source": [
    "<font color='green'>\n",
    "mean and variane of features  for each class :\n",
    "</font>"
   ]
  },
  {
   "cell_type": "code",
   "execution_count": 4,
   "metadata": {},
   "outputs": [],
   "source": [
    "### find mean and var and prior for each class from train data\n",
    "\n",
    "n_samples, n_features = X_train.shape\n",
    "classes = np.unique(y_train)\n",
    "n_classes = len(classes)\n",
    "\n",
    "# initialize mean and var and priors\n",
    "\n",
    "mean = np.zeros((n_classes, n_features))\n",
    "var = np.zeros((n_classes, n_features))\n",
    "priors = np.zeros(n_classes)\n",
    "\n",
    "# now calculate them\n",
    "\n",
    "for idx, c in enumerate(classes):\n",
    "    X_c = X_train[y_train == c]\n",
    "    mean[idx, :] = X_c.mean(axis=0)\n",
    "    var[idx, :] = X_c.var(axis=0)\n",
    "    priors[idx] = X_c.shape[0] / n_samples\n",
    "    "
   ]
  },
  {
   "cell_type": "markdown",
   "metadata": {},
   "source": [
    "<font color='green'>\n",
    "prediction function :\n",
    "</font>"
   ]
  },
  {
   "cell_type": "code",
   "execution_count": 5,
   "metadata": {},
   "outputs": [],
   "source": [
    "# prediction phase\n",
    "def predict(X):\n",
    "\n",
    "    def pdf(class_idx, x):\n",
    "        mean_x = mean[class_idx]\n",
    "        var_x = var[class_idx] + 1.e-20\n",
    "\n",
    "        numerator = np.exp(-((x - mean_x) ** 2) / (2 * var_x))\n",
    "        \n",
    "        denominator = np.sqrt(2 * np.pi * var_x)\n",
    "\n",
    "        pdf = numerator / denominator\n",
    "        return pdf\n",
    "\n",
    "    posteriors = np.zeros(( len(X) , n_classes ))\n",
    "    for idx_x , x in enumerate(X):\n",
    "        for idx_c, c in enumerate(classes):\n",
    "            prior = np.log(priors[idx_c])\n",
    "            posterior = np.sum(np.log(pdf( idx_c , x)))\n",
    "            posterior = posterior + prior\n",
    "            posteriors[idx_x][idx_c] = posterior\n",
    "    y_pred = [classes[np.argmax(posterior)] for posterior in posteriors]\n",
    "    return y_pred\n",
    "\n"
   ]
  },
  {
   "cell_type": "markdown",
   "metadata": {},
   "source": [
    "<font color='green'>\n",
    "Accuracy function :\n",
    "</font>"
   ]
  },
  {
   "cell_type": "code",
   "execution_count": 6,
   "metadata": {},
   "outputs": [],
   "source": [
    "def accuracy(y_true, y_pred):\n",
    "    accuracy = np.sum(y_true == y_pred) / len(y_true) *100\n",
    "    return accuracy"
   ]
  },
  {
   "cell_type": "markdown",
   "metadata": {},
   "source": [
    "<font color='green'>\n",
    "calculate accuracy for test data :\n",
    "</font>"
   ]
  },
  {
   "cell_type": "code",
   "execution_count": 10,
   "metadata": {},
   "outputs": [
    {
     "name": "stderr",
     "output_type": "stream",
     "text": [
      "<ipython-input-5-4fcf82a82525>:19: RuntimeWarning: divide by zero encountered in log\n",
      "  posterior = np.sum(np.log(pdf( idx_c , x)))\n"
     ]
    },
    {
     "name": "stdout",
     "output_type": "stream",
     "text": [
      "***   model accuracy is 50.4 percent!!!   ***\n"
     ]
    }
   ],
   "source": [
    "prediction = predict(X_test)\n",
    "print(f\"***   model accuracy is {accuracy(y_test , prediction)} percent!!!   ***\")"
   ]
  }
 ],
 "metadata": {
  "kernelspec": {
   "display_name": "Python 3.9.6 64-bit",
   "language": "python",
   "name": "python3"
  },
  "language_info": {
   "codemirror_mode": {
    "name": "ipython",
    "version": 3
   },
   "file_extension": ".py",
   "mimetype": "text/x-python",
   "name": "python",
   "nbconvert_exporter": "python",
   "pygments_lexer": "ipython3",
   "version": "3.9.6"
  },
  "orig_nbformat": 4,
  "vscode": {
   "interpreter": {
    "hash": "defbfcac5d2cbda68427532a810370d34b88f2f7073d72a5cc247a74b77f7d41"
   }
  }
 },
 "nbformat": 4,
 "nbformat_minor": 2
}
