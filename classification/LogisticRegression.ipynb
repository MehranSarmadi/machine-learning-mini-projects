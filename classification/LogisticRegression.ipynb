{
 "cells": [
  {
   "cell_type": "code",
   "execution_count": 62,
   "metadata": {},
   "outputs": [],
   "source": [
    "import numpy as np\n",
    "from scipy.io import loadmat\n",
    "import matplotlib.pyplot as plt"
   ]
  },
  {
   "cell_type": "code",
   "execution_count": 63,
   "metadata": {},
   "outputs": [],
   "source": [
    "mnist = loadmat(\"mnist\")\n",
    "Train_Data = mnist['train']\n",
    "Test_Data = mnist['test']"
   ]
  },
  {
   "cell_type": "markdown",
   "metadata": {},
   "source": [
    "<font color='green'>\n",
    "Separating x and y :\n",
    "</font>"
   ]
  },
  {
   "cell_type": "code",
   "execution_count": 64,
   "metadata": {},
   "outputs": [],
   "source": [
    "#separate x and y in train data\n",
    "X_train_without_intercept = Train_Data[ : , :-1]\n",
    "y_train_notOnehot = Train_Data[ : , -1]\n",
    "\n",
    "#separate x and y in test data\n",
    "X_test_without_intercept = Test_Data[ : , :-1]\n",
    "y_test_notOnehot = Test_Data[ : , -1]\n",
    "\n",
    "#number of classes and train data\n",
    "n_class = len(np.unique(y_train_notOnehot))\n",
    "n_train_data = len(Train_Data)\n"
   ]
  },
  {
   "cell_type": "markdown",
   "metadata": {},
   "source": [
    "<font color='green'>\n",
    "define a function for change y to OneHot form :\n",
    "</font>"
   ]
  },
  {
   "cell_type": "code",
   "execution_count": 65,
   "metadata": {},
   "outputs": [],
   "source": [
    "def OneHot(y):\n",
    "    oneHot_y = np.zeros( ( len(y) , len(np.unique(y)) ) )\n",
    "    \n",
    "    for idx , c in enumerate(y) :\n",
    "        oneHot_y[idx ,int(c)] = 1\n",
    "    \n",
    "    return oneHot_y\n"
   ]
  },
  {
   "cell_type": "markdown",
   "metadata": {},
   "source": [
    "<font color='green'>\n",
    "Add intercept (x(0) = 1) and  implement OneHot function on both Y_train and:\n",
    "</font>"
   ]
  },
  {
   "cell_type": "code",
   "execution_count": 66,
   "metadata": {},
   "outputs": [],
   "source": [
    "##### train data #####\n",
    "# add x0 = 1 to all x rows\n",
    "number_of_rows = len(Train_Data)\n",
    "intercept = np.ones(number_of_rows)\n",
    "X_train = np.c_[intercept , X_train_without_intercept]\n",
    "\n",
    "# turn y's to onehot form\n",
    "y_train = OneHot(y_train_notOnehot)\n",
    "\n",
    "##### test data #####\n",
    "# add x0 = 1 to all x rows\n",
    "number_of_rows = len(Test_Data)\n",
    "intercept = np.ones(number_of_rows)\n",
    "X_test = np.c_[intercept , X_test_without_intercept]\n",
    "\n",
    "# turn y's to onehot form\n",
    "y_test = OneHot(y_test_notOnehot)"
   ]
  },
  {
   "cell_type": "markdown",
   "metadata": {},
   "source": [
    "<font color='green'>\n",
    "defining prediction and accuracy function :\n",
    "</font>"
   ]
  },
  {
   "cell_type": "code",
   "execution_count": 73,
   "metadata": {},
   "outputs": [],
   "source": [
    "\n",
    "def predict(X,w):\n",
    "    def soft_max(mat):\n",
    "        soft_max = np.zeros(mat.shape)\n",
    "        for idx_r , row in enumerate(mat):\n",
    "            denominator = sum(np.exp(row))\n",
    "            for idx , el in enumerate(row):\n",
    "                soft_max[idx_r , idx] = np.exp(el) / denominator\n",
    "        return soft_max\n",
    "        \n",
    "\n",
    "    prediction = np.zeros( (len(X) , n_class ) )\n",
    "    SoftMax = soft_max(X @ w)\n",
    "    for idx in range( len(X) ):\n",
    "    \n",
    "        prediction[idx , np.argmax(SoftMax[idx])] = 1\n",
    "    return prediction\n",
    "\n",
    "def Accuracy(y_true, y_pred):\n",
    "    accuracy = np.sum(np.argmax(y_true,axis=1) == np.argmax(y_pred , axis=1)) / len(y_true)\n",
    "    return accuracy\n"
   ]
  },
  {
   "cell_type": "markdown",
   "metadata": {},
   "source": [
    "<font color='green'>\n",
    "defining Logistic Regressin function :\n",
    "</font>"
   ]
  },
  {
   "cell_type": "code",
   "execution_count": 68,
   "metadata": {},
   "outputs": [],
   "source": [
    "def LogisticRegression( X , y , learning_rate = 0.01 , lam=0.001 , n_iters=100):\n",
    "    \n",
    "    #initialization w\n",
    "    w = np.zeros((len(X[0]) , len(np.unique(y_train_notOnehot))))\n",
    "    \n",
    "    iteration_lst = []\n",
    "    Accuracy_at_each_iteration_lst = []\n",
    "\n",
    "    for iter in range(n_iters):\n",
    "        \n",
    "        w = w - learning_rate * ( lam*w + ( X.T @ (predict(X,w)-y) ) )\n",
    "        iteration_lst.append(iter)\n",
    "        Accuracy_at_each_iteration_lst.append(Accuracy(y_train , predict(X_train , w )))\n",
    "\n",
    "    return w , iteration_lst , Accuracy_at_each_iteration_lst"
   ]
  },
  {
   "cell_type": "markdown",
   "metadata": {},
   "source": [
    "<font color='green'>\n",
    "10 fold cv for determine best lambda :\n",
    "</font>"
   ]
  },
  {
   "cell_type": "code",
   "execution_count": 79,
   "metadata": {},
   "outputs": [
    {
     "name": "stdout",
     "output_type": "stream",
     "text": [
      "lambda is :  1\n",
      "Model Accuracy With This lambda is :  0.842375\n",
      "lambda is :  0.5\n",
      "Model Accuracy With This lambda is :  0.8563750000000001\n",
      "lambda is :  0.25\n",
      "Model Accuracy With This lambda is :  0.8606250000000001\n",
      "lambda is :  0.1\n",
      "Model Accuracy With This lambda is :  0.8581249999999999\n",
      "lambda is :  0.01\n",
      "Model Accuracy With This lambda is :  0.858125\n",
      "lambda is :  0.001\n",
      "Model Accuracy With This lambda is :  0.858125\n",
      "lambda is :  0\n",
      "Model Accuracy With This lambda is :  0.858\n"
     ]
    }
   ],
   "source": [
    "\n",
    "for lmd in [ 1 , 0.5 , 0.25 , 0.1 , 0.01 , 0.001 , 0]:\n",
    "    fold_size = int(len(X_train)/10)\n",
    "    print(\"lambda is : \",lmd)\n",
    "    sum_of_accuracies = 0\n",
    "    for fold in range(10):\n",
    "        if fold == 0  :\n",
    "            Temp_X_train = X_train[fold_size: ]\n",
    "            Temp_y_train = y_train[fold_size: ]\n",
    "            X_val = X_train[ : fold_size]\n",
    "            y_val = y_train[ : fold_size]\n",
    "        elif fold == 9 :\n",
    "            Temp_X_train = X_train[ :9*fold_size]\n",
    "            Temp_y_train = y_train[ :9*fold_size]\n",
    "            X_val = X_train[9*fold_size: ]\n",
    "            y_val = y_train[9*fold_size: ]\n",
    "        else :\n",
    "            Temp_X_train = np.concatenate((X_train[ :fold * fold_size ],X_train[ (fold+1)*fold_size :]))\n",
    "            Temp_y_train = np.concatenate((y_train[ :fold * fold_size ],y_train[ (fold+1)*fold_size :]))\n",
    "            X_val = X_train[ fold * fold_size: (fold+1)*fold_size]\n",
    "            y_val = y_train[ fold * fold_size: (fold+1)*fold_size]\n",
    "       \n",
    "        temp_w = LogisticRegression( Temp_X_train , Temp_y_train , learning_rate = 0.001 , lam=lmd , n_iters=20)[0]\n",
    "        temp_pred = predict(X_val , temp_w)\n",
    "        sum_of_accuracies += Accuracy(y_val , temp_pred)\n",
    "    print( \"Model Accuracy With This lambda is : \" , sum_of_accuracies/10)\n",
    "    "
   ]
  },
  {
   "cell_type": "markdown",
   "metadata": {},
   "source": [
    "<font color='green'>\n",
    "best lambda is : 0.25\n",
    "\n",
    "so i fitting the model with this lambda :\n",
    "</font>"
   ]
  },
  {
   "cell_type": "code",
   "execution_count": 80,
   "metadata": {},
   "outputs": [],
   "source": [
    "w_star,iteration_lst,Accuracy_at_each_iteration_lst = LogisticRegression( X_train , y_train , learning_rate = 0.001 , lam=0.5 , n_iters=100)"
   ]
  },
  {
   "cell_type": "code",
   "execution_count": 81,
   "metadata": {},
   "outputs": [
    {
     "data": {
      "text/plain": [
       "[<matplotlib.lines.Line2D at 0x1dd80030bb0>]"
      ]
     },
     "execution_count": 81,
     "metadata": {},
     "output_type": "execute_result"
    },
    {
     "data": {
      "image/png": "[encoded data removed]",
      "text/plain": [
       "<Figure size 432x288 with 1 Axes>"
      ]
     },
     "metadata": {
      "needs_background": "light"
     },
     "output_type": "display_data"
    }
   ],
   "source": [
    "plt.xlabel(\"iteration\")\n",
    "plt.ylabel(\"Accuracy\")\n",
    "plt.plot(iteration_lst , Accuracy_at_each_iteration_lst)"
   ]
  },
  {
   "cell_type": "code",
   "execution_count": 82,
   "metadata": {},
   "outputs": [
    {
     "name": "stdout",
     "output_type": "stream",
     "text": [
      "Accuracy On Test Data :  89.64999999999999 Percent\n"
     ]
    }
   ],
   "source": [
    "print(\"Accuracy On Test Data : \",Accuracy(y_test ,predict(X_test , w_star)) * 100 , \"Percent\")"
   ]
  }
 ],
 "metadata": {
  "kernelspec": {
   "display_name": "Python 3.9.6 64-bit",
   "language": "python",
   "name": "python3"
  },
  "language_info": {
   "codemirror_mode": {
    "name": "ipython",
    "version": 3
   },
   "file_extension": ".py",
   "mimetype": "text/x-python",
   "name": "python",
   "nbconvert_exporter": "python",
   "pygments_lexer": "ipython3",
   "version": "3.9.6"
  },
  "orig_nbformat": 4,
  "vscode": {
   "interpreter": {
    "hash": "defbfcac5d2cbda68427532a810370d34b88f2f7073d72a5cc247a74b77f7d41"
   }
  }
 },
 "nbformat": 4,
 "nbformat_minor": 2
}
