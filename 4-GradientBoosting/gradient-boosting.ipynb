{
  "cells": [
    {
      "attachments": {},
      "cell_type": "markdown",
      "metadata": {
        "id": "2YzPIuFZS7Ot"
      },
      "source": [
        "# PP 1"
      ]
    },
    {
      "cell_type": "code",
      "execution_count": 1,
      "metadata": {
        "id": "SOKCVb6ZS7Oy"
      },
      "outputs": [],
      "source": [
        "import pandas as pd\n",
        "import numpy as np\n",
        "import seaborn as sns\n",
        "import matplotlib.pyplot as plt\n",
        "from sklearn import datasets\n",
        "from sklearn.tree import DecisionTreeClassifier\n",
        "from sklearn.model_selection import train_test_split\n",
        "from sklearn.metrics import accuracy_score, recall_score, precision_score, f1_score, confusion_matrix"
      ]
    },
    {
      "attachments": {},
      "cell_type": "markdown",
      "metadata": {
        "id": "jceuB0U0S7O0"
      },
      "source": [
        "## Loss function\n",
        "\n",
        "In this section, the loss function and the corresponding derivative of the loss function are defined."
      ]
    },
    {
      "cell_type": "code",
      "execution_count": 2,
      "metadata": {
        "id": "IayUd_uyS7O1"
      },
      "outputs": [],
      "source": [
        "def loss(predicted_y, actual_y):\n",
        "    return (predicted_y - actual_y) ** 2 / 2\n",
        "\n",
        "def d_loss(predicted_y, actual_y):\n",
        "    return predicted_y - actual_y"
      ]
    },
    {
      "attachments": {},
      "cell_type": "markdown",
      "metadata": {
        "id": "Gus-D90sS7O1"
      },
      "source": [
        "## Gradient Boosting\n",
        "\n",
        "This model was implemented according to the pseudo code of Wikipedia (https://en.wikipedia.org/wiki/Gradient_boosting).\n",
        "\n",
        "\n",
        "M indicates the number of weak learners which is the decision tree classifier whit a maximum depth of 2.\n",
        "\n",
        "\n",
        "* Initialize model with a constant value\n",
        "\n",
        "&emsp;&emsp;&emsp;\n",
        "$F_0(X) = argmin_c \\sum_{i=1}^{n} L(y_i, c)$\n",
        "\n",
        "* For m = 1 to M:\n",
        "\n",
        "&emsp;&emsp;&emsp;\n",
        "Compute so-called pseudo-residuals:\n",
        "\n",
        "&emsp;&emsp;&emsp;&emsp;&emsp;&emsp;\n",
        "$r_{i} = - \\frac{\\partial L(y_i, F_{m-1}(x_i))}{\\partial F_{m-1}(x_i)}$&emsp;$for \\; i = 0, ..., n $\n",
        "\n",
        "&emsp;&emsp;&emsp;\n",
        "Fit a base learner (or weak learner, e.g. tree) closed under scaling $h_{m}(x)$ to pseudo-residuals, i.e. train it using the training set $(X, R)$\n",
        "\n",
        "&emsp;&emsp;&emsp;\n",
        "Update the model:\n",
        "\n",
        "&emsp;&emsp;&emsp;&emsp;&emsp;&emsp;\n",
        "$F_m(X) = F_{m-1}(X) + rate * g(X)$\n",
        "\n",
        "* The model is $F_M(X)$"
      ]
    },
    {
      "cell_type": "code",
      "execution_count": 3,
      "metadata": {
        "id": "DCcBgXvAS7O1"
      },
      "outputs": [],
      "source": [
        "class GradientBoosting:\n",
        "    def __init__(self, M=5, rate=0.5):\n",
        "        self.F = []\n",
        "        self.M = M\n",
        "        self.rate = rate\n",
        "\n",
        "    def predict(self, X):\n",
        "        y = []\n",
        "        for i in range(len(X)):\n",
        "            res = 0\n",
        "            for f in self.F:\n",
        "                res += self.rate * f(X.iloc[[i]])\n",
        "            y.append((np.abs([0, 1, 2] - res)).argmin())\n",
        "        return y\n",
        "\n",
        "    def fit(self, X, y):\n",
        "        # F_0(X)\n",
        "        l = np.array([sum([loss(c, i) for i in y]) for c in [0, 1, 2]])\n",
        "        self.F.append(lambda x: np.argmin(l))\n",
        "        # F_m(X)\n",
        "        for m in range(1, self.M):\n",
        "            r = np.array([-d_loss(self.F[m-1](X.iloc[[i]]), y[i]) for i in range(len(X))])\n",
        "            dt = DecisionTreeClassifier(max_depth=2)\n",
        "            dt.fit(X, r)\n",
        "            self.F.append(dt.predict)"
      ]
    },
    {
      "attachments": {},
      "cell_type": "markdown",
      "metadata": {
        "id": "XVzzcK_bS7O2"
      },
      "source": [
        "## Loading Data"
      ]
    },
    {
      "cell_type": "code",
      "execution_count": 4,
      "metadata": {
        "id": "9xAt_K5VS7O2"
      },
      "outputs": [],
      "source": [
        "iris = datasets.load_iris()\n",
        "X = iris_df = pd.DataFrame(iris.data, columns=iris.feature_names)\n",
        "y = iris.target\n",
        "X_train, X_test, y_train, y_test = train_test_split(X, y, test_size=0.15, random_state=5)"
      ]
    },
    {
      "attachments": {},
      "cell_type": "markdown",
      "metadata": {
        "id": "OVHQNK8ES7O3"
      },
      "source": [
        "## Training Model\n",
        "\n",
        "The gradient boosting learner with 6 weak learners is constructed and trained"
      ]
    },
    {
      "cell_type": "code",
      "execution_count": 27,
      "metadata": {
        "id": "pZR9fCSSS7O3"
      },
      "outputs": [],
      "source": [
        "gradientBoosting = GradientBoosting(M=4, rate=0.5)\n",
        "gradientBoosting.fit(X_train, y_train)\n"
      ]
    },
    {
      "cell_type": "code",
      "execution_count": 28,
      "metadata": {
        "colab": {
          "base_uri": "https://localhost:8080/",
          "height": 559
        },
        "id": "4SArTMTPS7O3",
        "outputId": "a01d2ad4-5d50-40fe-e175-a891a52d7584"
      },
      "outputs": [
        {
          "name": "stdout",
          "output_type": "stream",
          "text": [
            "Accuracy: 0.8695652173913043\n",
            "Recall: 0.8695652173913043\n",
            "Precision: 0.8695652173913043\n",
            "F1: 0.8695652173913043\n"
          ]
        },
        {
          "data": {
            "text/plain": [
              "Text(0.5, 1.0, 'Confusion Matrix')"
            ]
          },
          "execution_count": 28,
          "metadata": {},
          "output_type": "execute_result"
        },
        {
          "data": {
            "image/png": "[encoded data removed]",
            "text/plain": [
              "<Figure size 640x480 with 2 Axes>"
            ]
          },
          "metadata": {},
          "output_type": "display_data"
        }
      ],
      "source": [
        "pred_y = gradientBoosting.predict(X_test)\n",
        "print(f'Accuracy: {accuracy_score(y_test, pred_y)}')\n",
        "print(f'Recall: {recall_score(y_test, pred_y, average=\"micro\")}')\n",
        "print(f'Precision: {precision_score(y_test, pred_y, average=\"micro\")}')\n",
        "print(f'F1: {f1_score(y_test, pred_y, average=\"micro\")}')\n",
        "conf_matrix = confusion_matrix(y_test, pred_y)\n",
        "\n",
        "fig, ax = plt.subplots()\n",
        "sns.heatmap(conf_matrix, xticklabels=iris.target_names , yticklabels=iris.target_names, annot=True, cmap='Blues')\n",
        "ax.set_xlabel( \"Predicted label\")\n",
        "ax.set_ylabel( \"True label\")\n",
        "ax.set_title( \"Confusion Matrix\") "
      ]
    },
    {
      "attachments": {},
      "cell_type": "markdown",
      "metadata": {
        "id": "4zQuYpH2TZcD"
      },
      "source": [
        "## comparing different numbers of weak learners"
      ]
    },
    {
      "cell_type": "code",
      "execution_count": 17,
      "metadata": {
        "id": "wwcjh_arTISX"
      },
      "outputs": [],
      "source": [
        "num_weak_learner = [i for i in range(1, 21)]"
      ]
    },
    {
      "cell_type": "code",
      "execution_count": 25,
      "metadata": {
        "id": "zu2pUzRBTtSR"
      },
      "outputs": [],
      "source": [
        "accuracies = []\n",
        "for m in num_weak_learner:\n",
        "    gradientBoosting = GradientBoosting(M=m, rate=0.5)\n",
        "    gradientBoosting.fit(X_train, y_train)\n",
        "    pred_y = gradientBoosting.predict(X_test)\n",
        "    accuracies.append(accuracy_score(y_test, pred_y))"
      ]
    },
    {
      "cell_type": "code",
      "execution_count": 26,
      "metadata": {
        "colab": {
          "base_uri": "https://localhost:8080/",
          "height": 430
        },
        "id": "iPwx9S07Vo-Z",
        "outputId": "a5cd86b9-dfdb-4f3e-cd2d-a7942d1f0086"
      },
      "outputs": [
        {
          "data": {
            "image/png": "[encoded data removed]",
            "text/plain": [
              "<Figure size 640x480 with 1 Axes>"
            ]
          },
          "metadata": {},
          "output_type": "display_data"
        }
      ],
      "source": [
        "import seaborn as sns\n",
        "import pandas as pd\n",
        "\n",
        "df = pd.DataFrame({'Accuracy': accuracies})\n",
        "\n",
        "sns.lineplot(data=df)\n",
        "plt.xticks([i for i in range(1, 21)])\n",
        "plt.show()"
      ]
    }
  ],
  "metadata": {
    "colab": {
      "provenance": []
    },
    "interpreter": {
      "hash": "e7370f93d1d0cde622a1f8e1c04877d8463912d04d973331ad4851f04de6915a"
    },
    "kernelspec": {
      "display_name": "Python 3.9.7 64-bit",
      "language": "python",
      "name": "python3"
    },
    "language_info": {
      "codemirror_mode": {
        "name": "ipython",
        "version": 3
      },
      "file_extension": ".py",
      "mimetype": "text/x-python",
      "name": "python",
      "nbconvert_exporter": "python",
      "pygments_lexer": "ipython3",
      "version": "3.9.7"
    },
    "orig_nbformat": 4
  },
  "nbformat": 4,
  "nbformat_minor": 0
}
